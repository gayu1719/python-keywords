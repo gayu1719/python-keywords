{
 "cells": [
  {
   "cell_type": "markdown",
   "id": "1b1d726d-795a-40f5-ad78-f7774cead968",
   "metadata": {},
   "source": [
    "PYTHON : KEY WORDS "
   ]
  },
  {
   "cell_type": "markdown",
   "id": "19653e53-2606-488a-a040-deae24032bbf",
   "metadata": {},
   "source": [
    "Q1.explain the signifiacnce of python keywords and provide example of five keywords"
   ]
  },
  {
   "cell_type": "code",
   "execution_count": 1,
   "id": "f6679945-e4a8-4990-b219-4992dec0d688",
   "metadata": {},
   "outputs": [
    {
     "name": "stdout",
     "output_type": "stream",
     "text": [
      "x is less than or equal to 10\n",
      "apple\n",
      "banana\n",
      "cherry\n",
      "hello,john\n",
      "0\n",
      "1\n",
      "2\n",
      "3\n",
      "4\n"
     ]
    }
   ],
   "source": [
    "#significance of python keywords>>\n",
    "#1.syntax definition = keywords define the syntax and structure of python program\n",
    "#2.reserved words= keywords are reserved and cannot be used as varibale names or identifiers\n",
    "#3.special meanings=keywords have special meanings and are used to perform specific opeartions\n",
    "\n",
    "#keywords:\n",
    "#1.if-used for conditional statement\n",
    "\n",
    "x = 5\n",
    "if x > 10:\n",
    "    print(\"x is greater than 10\")\n",
    "else:\n",
    "    print(\"x is less than or equal to 10\")\n",
    "\n",
    "#for-used for loops\n",
    "\n",
    "fruits = [\"apple\",\"banana\",\"cherry\"]\n",
    "for fruit in fruits:\n",
    "    print(fruit)\n",
    "#def- used to define functions\n",
    "\n",
    "def greet(name):\n",
    "    print(\"hello,\"+name)\n",
    "greet(\"john\")\n",
    "\n",
    "#while-used for loops\n",
    "\n",
    "i=0\n",
    "while i<5:\n",
    "    print(i)\n",
    "    i+=1\n",
    "#class-used to define classes\n",
    "\n",
    "class person:\n",
    "   def  _init_(self,name,age):\n",
    "    self.name = name\n",
    "    self.age = age\n",
    "\n",
    "    def greet(self):\n",
    "        print(\"Hello,my name is\" +self.name)\n",
    "        person = person(\"jhon\",30)\n",
    "        person.greet()"
   ]
  },
  {
   "cell_type": "markdown",
   "id": "3853509b-674d-4d7e-886e-37201f82603a",
   "metadata": {},
   "source": [
    "Q.2 describe the rules for defining identifiers in python an example"
   ]
  },
  {
   "cell_type": "raw",
   "id": "17aa8899-0d5c-4e26-becf-043768bcdf31",
   "metadata": {},
   "source": [
    "#Rules for defining identifiers in python = \n",
    "\n",
    "1.start with a letter or underscore \n",
    "2.use only letters,digits,and underscore\n",
    "3.case sensitivity\n",
    "4.no reserved words\n"
   ]
  },
  {
   "cell_type": "code",
   "execution_count": 2,
   "id": "8a2d984f-7f31-4924-9c72-e10d54b6fb59",
   "metadata": {},
   "outputs": [],
   "source": [
    "#example\n",
    "\n",
    "#valid identifiers\n",
    "name = \"gayatri\"\n",
    "age = 20\n",
    "_name = \"private variable\"\n",
    "\n",
    "#invalid identifiers\n",
    "\n",
    "#1name = \"invalid\"<<error"
   ]
  },
  {
   "cell_type": "markdown",
   "id": "9cdd3aa2-8fe5-405d-b40b-48a91e694711",
   "metadata": {},
   "source": [
    "Q3.what are comments in python and why are they useful? provide an example"
   ]
  },
  {
   "cell_type": "markdown",
   "id": "d8311b6c-bb21-4569-a378-5dda1df8fe78",
   "metadata": {},
   "source": [
    "1.explaning complex code = comments help others understand what the code is doing.\n",
    "\n",
    "2.documenting code = comments provide documentation for the code,making it easier to maintain and update\n",
    "\n",
    "3.debugging = comments can be used to temporarily disable code while debugging.\n",
    "\n",
    "4.readability = comments improve the readability of the code, making it easier to understand"
   ]
  },
  {
   "cell_type": "code",
   "execution_count": 3,
   "id": "7f850e77-0ad8-496e-9f53-7f77af20181e",
   "metadata": {},
   "outputs": [
    {
     "name": "stdout",
     "output_type": "stream",
     "text": [
      "hello,jhon\n"
     ]
    }
   ],
   "source": [
    "#example \n",
    "\n",
    "# this is a comment - it will be ignored by the interpreter\n",
    "# this a variable to store the user's name \n",
    "name = \"jhon\" #this is a inline comment\n",
    "\n",
    "#print a greeting message\n",
    "print(\"hello,\" + name)# this is a multiline comment"
   ]
  },
  {
   "cell_type": "markdown",
   "id": "90d3b334-e141-4a0e-a609-0079a1fdfffe",
   "metadata": {},
   "source": [
    "Q.4 why are proper identation important in python?"
   ]
  },
  {
   "cell_type": "markdown",
   "id": "e2d5ac66-1ff9-47f3-8119-b5392cff9ec7",
   "metadata": {},
   "source": [
    "1.block_level structure = indentation determines the grouping of statements into blocks,such as inside if statements,for loops,or function definitions\n",
    "\n",
    "2.code readability = proper indentation makes the code more readable , as it visually separates differnt blocks of code.\n",
    "\n",
    "3.syntax errors = incorrect indentation can lead to syntax errors, which can prevent the code from runing.\n",
    "\n",
    "4.code organization  = identation helps organize the code in logical and consistent manner."
   ]
  },
  {
   "cell_type": "markdown",
   "id": "b3116d96-8102-4727-b2fc-bc04199494d9",
   "metadata": {},
   "source": [
    "Q.5 what happens if identation is incorrect in python?"
   ]
  },
  {
   "cell_type": "markdown",
   "id": "46b9da02-53ec-4f9b-bc35-4ee046cd50d1",
   "metadata": {},
   "source": [
    "1.syntax error\n",
    " \n",
    "2.logic error\n",
    "\n",
    "3.code block mismatch\n",
    "\n",
    "4.indentation error \n",
    "\n"
   ]
  },
  {
   "cell_type": "markdown",
   "id": "6dff42bc-b547-4614-bdc6-85fce07b3db0",
   "metadata": {},
   "source": [
    "Q.6 differntiate between expression & statement in python  with exmaple"
   ]
  },
  {
   "cell_type": "markdown",
   "id": "87f29c1a-31cd-49fc-8d5f-16db42367025",
   "metadata": {},
   "source": [
    "expression :\n",
    "\n",
    "1.evalutes to a value\n",
    "\n",
    "2.can conatain varibles,literals,operators and functions \n",
    "\n",
    " 3.result is a value\n",
    " \n",
    "\n",
    "\n",
    "statement:\n",
    "\n",
    "1.perform an action \n",
    "\n",
    "2.can contain one or more expressions \n",
    "\n",
    "3.result is not a value , but an action\n"
   ]
  },
  {
   "cell_type": "code",
   "execution_count": 4,
   "id": "b8a6fc7d-6002-4f5c-83b9-9a69709479b3",
   "metadata": {},
   "outputs": [],
   "source": [
    "#examples = expression\n",
    "y = 5 # statement \n",
    "y = x *2 # statement with expression\n",
    "\n",
    "#example = statement\n",
    "x = 5 # assignment statement\n",
    "if x>10 : # if statement \n",
    "    print(\"x is greater than 10\")\n",
    "    for i in range (5):# for loop statement\n",
    "     print(i)\n",
    "    \n",
    "\n"
   ]
  },
  {
   "cell_type": "code",
   "execution_count": null,
   "id": "e4a32997-ab2d-4c5d-9a0c-52dbdc29153c",
   "metadata": {},
   "outputs": [],
   "source": []
  },
  {
   "cell_type": "code",
   "execution_count": null,
   "id": "0c8ba6de-c948-48ba-a6c3-e8ed3f5fcce5",
   "metadata": {},
   "outputs": [],
   "source": []
  },
  {
   "cell_type": "code",
   "execution_count": null,
   "id": "0fc01041-d0bd-4518-9d67-8a1f840d115a",
   "metadata": {},
   "outputs": [],
   "source": []
  },
  {
   "cell_type": "code",
   "execution_count": null,
   "id": "2f892600-c910-4e41-9039-0209729d8184",
   "metadata": {},
   "outputs": [],
   "source": []
  },
  {
   "cell_type": "code",
   "execution_count": null,
   "id": "ecd2301b-3073-413a-99da-7127dfd2512d",
   "metadata": {},
   "outputs": [],
   "source": []
  },
  {
   "cell_type": "code",
   "execution_count": null,
   "id": "06a72979-06a0-4f8c-97f7-22375959fe0c",
   "metadata": {},
   "outputs": [],
   "source": []
  }
 ],
 "metadata": {
  "kernelspec": {
   "display_name": "Python 3 (ipykernel)",
   "language": "python",
   "name": "python3"
  },
  "language_info": {
   "codemirror_mode": {
    "name": "ipython",
    "version": 3
   },
   "file_extension": ".py",
   "mimetype": "text/x-python",
   "name": "python",
   "nbconvert_exporter": "python",
   "pygments_lexer": "ipython3",
   "version": "3.13.1"
  }
 },
 "nbformat": 4,
 "nbformat_minor": 5
}
